{
 "cells": [
  {
   "cell_type": "code",
   "execution_count": 11,
   "metadata": {},
   "outputs": [
    {
     "name": "stdout",
     "output_type": "stream",
     "text": [
      "The autoreload extension is already loaded. To reload it, use:\n",
      "  %reload_ext autoreload\n"
     ]
    }
   ],
   "source": [
    "%load_ext autoreload\n",
    "%autoreload 2"
   ]
  },
  {
   "cell_type": "code",
   "execution_count": 12,
   "metadata": {},
   "outputs": [],
   "source": [
    "import sys\n",
    "sys.path.insert(0,'/home/kolapally/code/kolapally/computer_vision/')"
   ]
  },
  {
   "cell_type": "code",
   "execution_count": 13,
   "metadata": {},
   "outputs": [
    {
     "data": {
      "text/plain": [
       "['/home/kolapally/code/kolapally/computer_vision/',\n",
       " '/home/kolapally/code/kolapally/computer_vision/',\n",
       " '/home/kolapally/code/kolapally/computer_vision/',\n",
       " '/home/kolapally/code/kolapally/computer_vision/compvis/interface',\n",
       " '/home/kolapally/code/kolapally/data-context-and-setup',\n",
       " '/home/kolapally/code/kolapally/computer_vision/compvis/interface',\n",
       " '/home/kolapally/.pyenv/versions/3.10.6/lib/python310.zip',\n",
       " '/home/kolapally/.pyenv/versions/3.10.6/lib/python3.10',\n",
       " '/home/kolapally/.pyenv/versions/3.10.6/lib/python3.10/lib-dynload',\n",
       " '',\n",
       " '/home/kolapally/.pyenv/versions/3.10.6/envs/computer_vision/lib/python3.10/site-packages']"
      ]
     },
     "execution_count": 13,
     "metadata": {},
     "output_type": "execute_result"
    }
   ],
   "source": [
    "sys.path"
   ]
  },
  {
   "attachments": {},
   "cell_type": "markdown",
   "metadata": {},
   "source": [
    "# Multiple files for training"
   ]
  },
  {
   "cell_type": "code",
   "execution_count": 14,
   "metadata": {},
   "outputs": [
    {
     "ename": "ModuleNotFoundError",
     "evalue": "No module named 'compvis.preprocess.face_detect_multiple'",
     "output_type": "error",
     "traceback": [
      "\u001b[0;31m---------------------------------------------------------------------------\u001b[0m",
      "\u001b[0;31mModuleNotFoundError\u001b[0m                       Traceback (most recent call last)",
      "Cell \u001b[0;32mIn[14], line 1\u001b[0m\n\u001b[0;32m----> 1\u001b[0m \u001b[39mfrom\u001b[39;00m \u001b[39mcompvis\u001b[39;00m\u001b[39m.\u001b[39;00m\u001b[39mpreprocess\u001b[39;00m\u001b[39m.\u001b[39;00m\u001b[39mface_detect_multiple\u001b[39;00m \u001b[39mimport\u001b[39;00m face_detect_multiple\n",
      "\u001b[0;31mModuleNotFoundError\u001b[0m: No module named 'compvis.preprocess.face_detect_multiple'"
     ]
    }
   ],
   "source": [
    "from compvis.preprocess.face_detect_multiple import face_detect_multiple"
   ]
  }
 ],
 "metadata": {
  "kernelspec": {
   "display_name": "computer_vision",
   "language": "python",
   "name": "python3"
  },
  "language_info": {
   "codemirror_mode": {
    "name": "ipython",
    "version": 3
   },
   "file_extension": ".py",
   "mimetype": "text/x-python",
   "name": "python",
   "nbconvert_exporter": "python",
   "pygments_lexer": "ipython3",
   "version": "3.10.6"
  },
  "orig_nbformat": 4
 },
 "nbformat": 4,
 "nbformat_minor": 2
}
