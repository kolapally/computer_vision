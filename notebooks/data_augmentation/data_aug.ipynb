{
 "cells": [
  {
   "cell_type": "code",
   "execution_count": 28,
   "metadata": {},
   "outputs": [],
   "source": [
    "import os\n",
    "import pandas as pd\n",
    "import shutil\n",
    "import tensorflow as tf\n",
    "from tqdm import tqdm\n",
    "from tensorflow.keras.preprocessing.image import ImageDataGenerator\n",
    "\n",
    "def make_dataframe(sdir):\n",
    "    # sdir is the directory when the class subdirectories are stored\n",
    "    filepaths=[]\n",
    "    labels=[]\n",
    "    classlist=sorted(os.listdir(sdir) )     \n",
    "    for klass in classlist:\n",
    "        classpath=os.path.join(sdir, klass) \n",
    "        if os.path.isdir(classpath):\n",
    "            flist=sorted(os.listdir(classpath)) \n",
    "            desc=f'{klass:25s}'\n",
    "            for f in tqdm(flist, ncols=130,desc=desc, unit='files', colour='blue'):\n",
    "                fpath=os.path.join(classpath,f)\n",
    "                filepaths.append(fpath)\n",
    "                labels.append(klass)\n",
    "    Fseries=pd.Series(filepaths, name='filepaths')\n",
    "    Lseries=pd.Series(labels, name='labels')\n",
    "    df=pd.concat([Fseries, Lseries], axis=1) \n",
    "    # return a dataframe with columns filepaths, labels\n",
    "    return df\n",
    "\n",
    "def make_and_store_images(df, augdir, n,  img_size,  color_mode='rgb', save_prefix='aug-',save_format='jpg'):\n",
    "    #augdir is the full path where augmented images will be stored\n",
    "    #n is the number of augmented images that will be created for each class that has less than n image samples\n",
    "    # img_size  is a tupple(height,width) that specifies the size of the augmented images\n",
    "    # color_mode is 'rgb by default'\n",
    "    # save_prefix is the prefix augmented images are identified with by default it is 'aug-'\n",
    "    #save_format is the format augmented images will be save in, by default it is 'jpg'\n",
    "    # see documentation of ImageDataGenerator at https://www.tensorflow.org/api_docs/python/tf/keras/preprocessing/image/ImageDataGenerator for details\n",
    "    df=df.copy()        \n",
    "    if os.path.isdir(augdir):# start with an empty directory\n",
    "        shutil.rmtree(augdir)\n",
    "    os.mkdir(augdir)  # if directory does not exist create it      \n",
    "    for label in df['labels'].unique():    \n",
    "        classpath=os.path.join(augdir,label)    \n",
    "        os.mkdir(classpath) # make class directories within aug directory\n",
    "    # create and store the augmented images  \n",
    "    total=0\n",
    "    # in ImageDateGenerator select the types of augmentation you desire  below are some examples  \n",
    "    gen=ImageDataGenerator(rotation_range=15,\n",
    "                               width_shift_range=0.1,\n",
    "                               height_shift_range=0.1,\n",
    "                               shear_range=0.01,\n",
    "                               zoom_range=[0.9, 1.25],\n",
    "                               horizontal_flip=True,\n",
    "                               vertical_flip=False,\n",
    "                               fill_mode='reflect',\n",
    "                               data_format='channels_last',\n",
    "                               brightness_range=[0.5, 1.5])\n",
    "    groups=df.groupby('labels') # group by class\n",
    "    for label in df['labels'].unique():  # for every class\n",
    "        classdir=os.path.join(augdir, label)\n",
    "        group=groups.get_group(label)  # a dataframe holding only rows with the specified label \n",
    "        sample_count=len(group)   # determine how many samples there are in this class  \n",
    "        if sample_count< n: # if the class has less than target number of images\n",
    "            aug_img_count=0\n",
    "            delta=n - sample_count  # number of augmented images to create            \n",
    "            msg='{0:40s} for class {1:^30s} creating {2:^5s} augmented images'.format(' ', label, str(delta))\n",
    "            print(msg, '\\r', end='') # prints over on the same line\n",
    "            aug_gen=gen.flow_from_dataframe( group,  x_col='filepaths', y_col=None, target_size=img_size,\n",
    "                                            class_mode=None, batch_size=1, shuffle=False, \n",
    "                                            save_to_dir=classdir, save_prefix=save_prefix, color_mode=color_mode,\n",
    "                                            save_format=save_format)\n",
    "            while aug_img_count<delta:\n",
    "                images=next(aug_gen)            \n",
    "                aug_img_count += len(images)\n",
    "            total +=aug_img_count        \n",
    "    print('Total Augmented images created= ', total)"
   ]
  },
  {
   "cell_type": "code",
   "execution_count": 21,
   "metadata": {},
   "outputs": [
    {
     "data": {
      "text/plain": [
       "'/home/kolapally/code/kolapally/computer_vision/data/Test_cast/Angela/Angela_001.jpg'"
      ]
     },
     "execution_count": 21,
     "metadata": {},
     "output_type": "execute_result"
    }
   ],
   "source": [
    "df.iloc[0]['filepaths']"
   ]
  },
  {
   "cell_type": "code",
   "execution_count": 29,
   "metadata": {},
   "outputs": [
    {
     "name": "stderr",
     "output_type": "stream",
     "text": [
      "Angela                   : 100%|\u001b[34m████████████████████████████████████████████████████████████\u001b[0m| 54/54 [00:00<00:00, 86945.27files/s]\u001b[0m\n",
      "Dwight                   : 100%|\u001b[34m████████████████████████████████████████████████████████████\u001b[0m| 54/54 [00:00<00:00, 92597.06files/s]\u001b[0m\n",
      "Jim                      : 100%|\u001b[34m████████████████████████████████████████████████████████████\u001b[0m| 60/60 [00:00<00:00, 74104.31files/s]\u001b[0m\n",
      "Kevin                    : 100%|\u001b[34m████████████████████████████████████████████████████████████\u001b[0m| 58/58 [00:00<00:00, 78322.48files/s]\u001b[0m\n",
      "Michael                  : 100%|\u001b[34m████████████████████████████████████████████████████████████\u001b[0m| 56/56 [00:00<00:00, 67108.86files/s]\u001b[0m\n",
      "Pam                      : 100%|\u001b[34m████████████████████████████████████████████████████████████\u001b[0m| 60/60 [00:00<00:00, 72170.42files/s]\u001b[0m"
     ]
    },
    {
     "name": "stdout",
     "output_type": "stream",
     "text": [
      "                                           filepaths  labels\n",
      "0  /home/kolapally/code/kolapally/computer_vision...  Angela\n",
      "1  /home/kolapally/code/kolapally/computer_vision...  Angela\n",
      "2  /home/kolapally/code/kolapally/computer_vision...  Angela\n",
      "3  /home/kolapally/code/kolapally/computer_vision...  Angela\n",
      "4  /home/kolapally/code/kolapally/computer_vision...  Angela\n",
      "length of dataframe is  342\n",
      "Found 27 validated image filenames.      for class             Angela             creating 2946  augmented images \n"
     ]
    },
    {
     "name": "stderr",
     "output_type": "stream",
     "text": [
      "\n",
      "/home/kolapally/.pyenv/versions/3.10.6/envs/computer_vision/lib/python3.10/site-packages/keras/preprocessing/image.py:1139: UserWarning: Found 27 invalid image filename(s) in x_col=\"filepaths\". These filename(s) will be ignored.\n",
      "  warnings.warn(\n"
     ]
    },
    {
     "name": "stdout",
     "output_type": "stream",
     "text": [
      "Found 27 validated image filenames.      for class             Dwight             creating 2946  augmented images \n",
      "Found 30 validated image filenames.      for class              Jim               creating 2940  augmented images \n"
     ]
    },
    {
     "name": "stderr",
     "output_type": "stream",
     "text": [
      "/home/kolapally/.pyenv/versions/3.10.6/envs/computer_vision/lib/python3.10/site-packages/keras/preprocessing/image.py:1139: UserWarning: Found 30 invalid image filename(s) in x_col=\"filepaths\". These filename(s) will be ignored.\n",
      "  warnings.warn(\n"
     ]
    },
    {
     "name": "stdout",
     "output_type": "stream",
     "text": [
      "Found 29 validated image filenames.      for class             Kevin              creating 2942  augmented images \n"
     ]
    },
    {
     "name": "stderr",
     "output_type": "stream",
     "text": [
      "/home/kolapally/.pyenv/versions/3.10.6/envs/computer_vision/lib/python3.10/site-packages/keras/preprocessing/image.py:1139: UserWarning: Found 29 invalid image filename(s) in x_col=\"filepaths\". These filename(s) will be ignored.\n",
      "  warnings.warn(\n"
     ]
    },
    {
     "name": "stdout",
     "output_type": "stream",
     "text": [
      "Found 28 validated image filenames.      for class            Michael             creating 2944  augmented images \n"
     ]
    },
    {
     "name": "stderr",
     "output_type": "stream",
     "text": [
      "/home/kolapally/.pyenv/versions/3.10.6/envs/computer_vision/lib/python3.10/site-packages/keras/preprocessing/image.py:1139: UserWarning: Found 28 invalid image filename(s) in x_col=\"filepaths\". These filename(s) will be ignored.\n",
      "  warnings.warn(\n"
     ]
    },
    {
     "name": "stdout",
     "output_type": "stream",
     "text": [
      "Found 30 validated image filenames.      for class              Pam               creating 2940  augmented images \n",
      "Total Augmented images created=  17658\n"
     ]
    }
   ],
   "source": [
    "sdir=r'/home/kolapally/code/kolapally/computer_vision/data/Test_cast'\n",
    "df=make_dataframe(sdir)\n",
    "print (df.head())\n",
    "print ('length of dataframe is ',len(df))\n",
    "\n",
    "augdir=r'/home/kolapally/code/kolapally/computer_vision/data/Aug' # directory to store the images if it does not exist it will be created\n",
    "n=3000 # if the class had N image samples in the sdir, if N<n than in augdir n-N augmented images will be created \n",
    "img_size=(128,128) # image size (height,width) of augmented images\n",
    "make_and_store_images(df, augdir, n,  img_size,  color_mode='rgb', save_prefix='aug-',save_format='png')"
   ]
  }
 ],
 "metadata": {
  "kernelspec": {
   "display_name": "computer_vision",
   "language": "python",
   "name": "python3"
  },
  "language_info": {
   "codemirror_mode": {
    "name": "ipython",
    "version": 3
   },
   "file_extension": ".py",
   "mimetype": "text/x-python",
   "name": "python",
   "nbconvert_exporter": "python",
   "pygments_lexer": "ipython3",
   "version": "3.10.6"
  },
  "orig_nbformat": 4
 },
 "nbformat": 4,
 "nbformat_minor": 2
}
